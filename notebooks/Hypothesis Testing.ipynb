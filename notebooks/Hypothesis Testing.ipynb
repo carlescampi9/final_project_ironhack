{
 "cells": [
  {
   "cell_type": "code",
   "execution_count": 48,
   "id": "ca297ba2-38c3-46fe-b067-d02fd674fc79",
   "metadata": {},
   "outputs": [],
   "source": [
    "import pandas as pd\n",
    "import numpy as np\n",
    "import matplotlib.pyplot as plt\n",
    "import seaborn as sns\n",
    "import scipy.stats as st\n",
    "from sklearn.preprocessing import MinMaxScaler, StandardScaler\n",
    "from sklearn.model_selection import train_test_split\n",
    "import statsmodels.api as sm"
   ]
  },
  {
   "cell_type": "code",
   "execution_count": 34,
   "id": "3f55ec13-9f85-42d3-8833-f495a3026eba",
   "metadata": {},
   "outputs": [
    {
     "data": {
      "text/html": [
       "<div>\n",
       "<style scoped>\n",
       "    .dataframe tbody tr th:only-of-type {\n",
       "        vertical-align: middle;\n",
       "    }\n",
       "\n",
       "    .dataframe tbody tr th {\n",
       "        vertical-align: top;\n",
       "    }\n",
       "\n",
       "    .dataframe thead th {\n",
       "        text-align: right;\n",
       "    }\n",
       "</style>\n",
       "<table border=\"1\" class=\"dataframe\">\n",
       "  <thead>\n",
       "    <tr style=\"text-align: right;\">\n",
       "      <th></th>\n",
       "      <th>realSum</th>\n",
       "      <th>room_type</th>\n",
       "      <th>person_capacity</th>\n",
       "      <th>host_is_superhost</th>\n",
       "      <th>multi</th>\n",
       "      <th>biz</th>\n",
       "      <th>cleanliness_rating</th>\n",
       "      <th>guest_satisfaction_overall</th>\n",
       "      <th>bedrooms</th>\n",
       "      <th>dist</th>\n",
       "      <th>metro_dist</th>\n",
       "      <th>attr_index</th>\n",
       "      <th>rest_index</th>\n",
       "      <th>weekend</th>\n",
       "      <th>city</th>\n",
       "    </tr>\n",
       "  </thead>\n",
       "  <tbody>\n",
       "    <tr>\n",
       "      <th>0</th>\n",
       "      <td>194.033698</td>\n",
       "      <td>Private room</td>\n",
       "      <td>2.0</td>\n",
       "      <td>False</td>\n",
       "      <td>1</td>\n",
       "      <td>0</td>\n",
       "      <td>10.0</td>\n",
       "      <td>93.0</td>\n",
       "      <td>1</td>\n",
       "      <td>5.022964</td>\n",
       "      <td>2.539380</td>\n",
       "      <td>78.690379</td>\n",
       "      <td>98.253896</td>\n",
       "      <td>False</td>\n",
       "      <td>Amsterdam</td>\n",
       "    </tr>\n",
       "    <tr>\n",
       "      <th>1</th>\n",
       "      <td>344.245776</td>\n",
       "      <td>Private room</td>\n",
       "      <td>4.0</td>\n",
       "      <td>False</td>\n",
       "      <td>0</td>\n",
       "      <td>0</td>\n",
       "      <td>8.0</td>\n",
       "      <td>85.0</td>\n",
       "      <td>1</td>\n",
       "      <td>0.488389</td>\n",
       "      <td>0.239404</td>\n",
       "      <td>631.176378</td>\n",
       "      <td>837.280757</td>\n",
       "      <td>False</td>\n",
       "      <td>Amsterdam</td>\n",
       "    </tr>\n",
       "    <tr>\n",
       "      <th>2</th>\n",
       "      <td>264.101422</td>\n",
       "      <td>Private room</td>\n",
       "      <td>2.0</td>\n",
       "      <td>False</td>\n",
       "      <td>0</td>\n",
       "      <td>1</td>\n",
       "      <td>9.0</td>\n",
       "      <td>87.0</td>\n",
       "      <td>1</td>\n",
       "      <td>5.748312</td>\n",
       "      <td>3.651621</td>\n",
       "      <td>75.275877</td>\n",
       "      <td>95.386955</td>\n",
       "      <td>False</td>\n",
       "      <td>Amsterdam</td>\n",
       "    </tr>\n",
       "    <tr>\n",
       "      <th>3</th>\n",
       "      <td>433.529398</td>\n",
       "      <td>Private room</td>\n",
       "      <td>4.0</td>\n",
       "      <td>False</td>\n",
       "      <td>0</td>\n",
       "      <td>1</td>\n",
       "      <td>9.0</td>\n",
       "      <td>90.0</td>\n",
       "      <td>2</td>\n",
       "      <td>0.384862</td>\n",
       "      <td>0.439876</td>\n",
       "      <td>493.272534</td>\n",
       "      <td>875.033098</td>\n",
       "      <td>False</td>\n",
       "      <td>Amsterdam</td>\n",
       "    </tr>\n",
       "    <tr>\n",
       "      <th>4</th>\n",
       "      <td>485.552926</td>\n",
       "      <td>Private room</td>\n",
       "      <td>2.0</td>\n",
       "      <td>True</td>\n",
       "      <td>0</td>\n",
       "      <td>0</td>\n",
       "      <td>10.0</td>\n",
       "      <td>98.0</td>\n",
       "      <td>1</td>\n",
       "      <td>0.544738</td>\n",
       "      <td>0.318693</td>\n",
       "      <td>552.830324</td>\n",
       "      <td>815.305740</td>\n",
       "      <td>False</td>\n",
       "      <td>Amsterdam</td>\n",
       "    </tr>\n",
       "    <tr>\n",
       "      <th>...</th>\n",
       "      <td>...</td>\n",
       "      <td>...</td>\n",
       "      <td>...</td>\n",
       "      <td>...</td>\n",
       "      <td>...</td>\n",
       "      <td>...</td>\n",
       "      <td>...</td>\n",
       "      <td>...</td>\n",
       "      <td>...</td>\n",
       "      <td>...</td>\n",
       "      <td>...</td>\n",
       "      <td>...</td>\n",
       "      <td>...</td>\n",
       "      <td>...</td>\n",
       "      <td>...</td>\n",
       "    </tr>\n",
       "    <tr>\n",
       "      <th>51702</th>\n",
       "      <td>715.938574</td>\n",
       "      <td>Entire home/apt</td>\n",
       "      <td>6.0</td>\n",
       "      <td>False</td>\n",
       "      <td>0</td>\n",
       "      <td>1</td>\n",
       "      <td>10.0</td>\n",
       "      <td>100.0</td>\n",
       "      <td>3</td>\n",
       "      <td>0.530181</td>\n",
       "      <td>0.135447</td>\n",
       "      <td>219.402478</td>\n",
       "      <td>438.756874</td>\n",
       "      <td>True</td>\n",
       "      <td>Vienna</td>\n",
       "    </tr>\n",
       "    <tr>\n",
       "      <th>51703</th>\n",
       "      <td>304.793960</td>\n",
       "      <td>Entire home/apt</td>\n",
       "      <td>2.0</td>\n",
       "      <td>False</td>\n",
       "      <td>0</td>\n",
       "      <td>0</td>\n",
       "      <td>8.0</td>\n",
       "      <td>86.0</td>\n",
       "      <td>1</td>\n",
       "      <td>0.810205</td>\n",
       "      <td>0.100839</td>\n",
       "      <td>204.970121</td>\n",
       "      <td>342.182813</td>\n",
       "      <td>True</td>\n",
       "      <td>Vienna</td>\n",
       "    </tr>\n",
       "    <tr>\n",
       "      <th>51704</th>\n",
       "      <td>637.168969</td>\n",
       "      <td>Entire home/apt</td>\n",
       "      <td>2.0</td>\n",
       "      <td>False</td>\n",
       "      <td>0</td>\n",
       "      <td>0</td>\n",
       "      <td>10.0</td>\n",
       "      <td>93.0</td>\n",
       "      <td>1</td>\n",
       "      <td>0.994051</td>\n",
       "      <td>0.202539</td>\n",
       "      <td>169.073402</td>\n",
       "      <td>282.296424</td>\n",
       "      <td>True</td>\n",
       "      <td>Vienna</td>\n",
       "    </tr>\n",
       "    <tr>\n",
       "      <th>51705</th>\n",
       "      <td>301.054157</td>\n",
       "      <td>Private room</td>\n",
       "      <td>2.0</td>\n",
       "      <td>False</td>\n",
       "      <td>0</td>\n",
       "      <td>0</td>\n",
       "      <td>10.0</td>\n",
       "      <td>87.0</td>\n",
       "      <td>1</td>\n",
       "      <td>3.044100</td>\n",
       "      <td>0.287435</td>\n",
       "      <td>109.236574</td>\n",
       "      <td>158.563398</td>\n",
       "      <td>True</td>\n",
       "      <td>Vienna</td>\n",
       "    </tr>\n",
       "    <tr>\n",
       "      <th>51706</th>\n",
       "      <td>133.230489</td>\n",
       "      <td>Private room</td>\n",
       "      <td>4.0</td>\n",
       "      <td>True</td>\n",
       "      <td>1</td>\n",
       "      <td>0</td>\n",
       "      <td>10.0</td>\n",
       "      <td>93.0</td>\n",
       "      <td>1</td>\n",
       "      <td>1.263932</td>\n",
       "      <td>0.480903</td>\n",
       "      <td>150.450381</td>\n",
       "      <td>225.247293</td>\n",
       "      <td>True</td>\n",
       "      <td>Vienna</td>\n",
       "    </tr>\n",
       "  </tbody>\n",
       "</table>\n",
       "<p>51707 rows × 15 columns</p>\n",
       "</div>"
      ],
      "text/plain": [
       "          realSum        room_type  person_capacity  host_is_superhost  multi  \\\n",
       "0      194.033698     Private room              2.0              False      1   \n",
       "1      344.245776     Private room              4.0              False      0   \n",
       "2      264.101422     Private room              2.0              False      0   \n",
       "3      433.529398     Private room              4.0              False      0   \n",
       "4      485.552926     Private room              2.0               True      0   \n",
       "...           ...              ...              ...                ...    ...   \n",
       "51702  715.938574  Entire home/apt              6.0              False      0   \n",
       "51703  304.793960  Entire home/apt              2.0              False      0   \n",
       "51704  637.168969  Entire home/apt              2.0              False      0   \n",
       "51705  301.054157     Private room              2.0              False      0   \n",
       "51706  133.230489     Private room              4.0               True      1   \n",
       "\n",
       "       biz  cleanliness_rating  guest_satisfaction_overall  bedrooms  \\\n",
       "0        0                10.0                        93.0         1   \n",
       "1        0                 8.0                        85.0         1   \n",
       "2        1                 9.0                        87.0         1   \n",
       "3        1                 9.0                        90.0         2   \n",
       "4        0                10.0                        98.0         1   \n",
       "...    ...                 ...                         ...       ...   \n",
       "51702    1                10.0                       100.0         3   \n",
       "51703    0                 8.0                        86.0         1   \n",
       "51704    0                10.0                        93.0         1   \n",
       "51705    0                10.0                        87.0         1   \n",
       "51706    0                10.0                        93.0         1   \n",
       "\n",
       "           dist  metro_dist  attr_index  rest_index  weekend       city  \n",
       "0      5.022964    2.539380   78.690379   98.253896    False  Amsterdam  \n",
       "1      0.488389    0.239404  631.176378  837.280757    False  Amsterdam  \n",
       "2      5.748312    3.651621   75.275877   95.386955    False  Amsterdam  \n",
       "3      0.384862    0.439876  493.272534  875.033098    False  Amsterdam  \n",
       "4      0.544738    0.318693  552.830324  815.305740    False  Amsterdam  \n",
       "...         ...         ...         ...         ...      ...        ...  \n",
       "51702  0.530181    0.135447  219.402478  438.756874     True     Vienna  \n",
       "51703  0.810205    0.100839  204.970121  342.182813     True     Vienna  \n",
       "51704  0.994051    0.202539  169.073402  282.296424     True     Vienna  \n",
       "51705  3.044100    0.287435  109.236574  158.563398     True     Vienna  \n",
       "51706  1.263932    0.480903  150.450381  225.247293     True     Vienna  \n",
       "\n",
       "[51707 rows x 15 columns]"
      ]
     },
     "execution_count": 34,
     "metadata": {},
     "output_type": "execute_result"
    }
   ],
   "source": [
    "airbnb = pd.read_csv(\"../data/clean/airbnb_merged.csv\")\n",
    "airbnb"
   ]
  },
  {
   "cell_type": "markdown",
   "id": "6a4be7ce-9792-4b14-a9ce-fe2406904874",
   "metadata": {},
   "source": [
    "# PRICE"
   ]
  },
  {
   "cell_type": "markdown",
   "id": "6bdba810-2e25-44dd-b39c-27077906456a",
   "metadata": {
    "jp-MarkdownHeadingCollapsed": true
   },
   "source": [
    "## City Hypothesis (ANOVA)"
   ]
  },
  {
   "cell_type": "code",
   "execution_count": 16,
   "id": "4e139709-49a7-4b24-8ad6-46ee3505fb47",
   "metadata": {},
   "outputs": [
    {
     "name": "stdout",
     "output_type": "stream",
     "text": [
      "P-valor: 0.0000\n",
      "Reject Ho. There are significant differences in prices between cities\n"
     ]
    }
   ],
   "source": [
    "amsterdam = airbnb[airbnb[\"city\"] == \"Amsterdam\"][\"realSum\"]\n",
    "athens = airbnb[airbnb[\"city\"] == \"Athens\"][\"realSum\"]\n",
    "barcelona = airbnb[airbnb[\"city\"] == \"Barcelona\"][\"realSum\"]\n",
    "berlin = airbnb[airbnb[\"city\"] == \"Berlin\"][\"realSum\"]\n",
    "budapest = airbnb[airbnb[\"city\"] == \"Budapest\"][\"realSum\"]\n",
    "lisbon = airbnb[airbnb[\"city\"] == \"Lisbon\"][\"realSum\"]\n",
    "london = airbnb[airbnb[\"city\"] == \"London\"][\"realSum\"]\n",
    "paris = airbnb[airbnb[\"city\"] == \"Paris\"][\"realSum\"]\n",
    "rome = airbnb[airbnb[\"city\"] == \"Rome\"][\"realSum\"]\n",
    "vienna = airbnb[airbnb[\"city\"] == \"Vienna\"][\"realSum\"]\n",
    "\n",
    "\n",
    "#H0: mu realSum amsterdam = mu realSum athens  = mu realSum barcelona = mu realSum berlin = mu realSum budapest  = mu realSum lisbon = mu realSum london = mu realSum paris\n",
    "    # = mu realSum rome = mu realSum vienna\n",
    "#H1: mu realSum amsterdam != mu realSum athens  != mu realSum barcelona != mu realSum berlin != mu realSum budapest  != mu realSum lisbon != mu realSum london != mu realSum paris\n",
    "    # != mu realSum rome != mu realSum vienna\n",
    "\n",
    "alpha = 0.05\n",
    "f_stat, p_value = st.f_oneway(amsterdam, athens, barcelona, berlin, budapest, lisbon, london, paris, rome, vienna)\n",
    "\n",
    "print(f\"P-valor: {p_value:.4f}\")\n",
    "\n",
    "if p_value < alpha:\n",
    "    print(\"Reject Ho. There are significant differences in prices between cities\")\n",
    "else:\n",
    "    print(\"Not Reject Ho. There are not significant differences in prices between cities\")"
   ]
  },
  {
   "cell_type": "markdown",
   "id": "7c4020e7-a5ae-451f-b689-cc955d687951",
   "metadata": {
    "jp-MarkdownHeadingCollapsed": true
   },
   "source": [
    "## Weekend Hypothesis (Two Sample t-test)"
   ]
  },
  {
   "cell_type": "code",
   "execution_count": 21,
   "id": "707c168b-cf43-4e0d-8018-83aa49d4a6e6",
   "metadata": {},
   "outputs": [
    {
     "name": "stdout",
     "output_type": "stream",
     "text": [
      "P-valor: 0.0042\n",
      "Reject Ho. There are significant differences in prices between weekend and weekdays\n"
     ]
    }
   ],
   "source": [
    "weekend = airbnb[airbnb[\"weekend\"] == True][\"realSum\"]\n",
    "weekdays = airbnb[airbnb[\"weekend\"] == False][\"realSum\"]\n",
    "\n",
    "#H0: mu realSum weekend = mu realSum weekdays\n",
    "#H1: mu realSum weekend != mu realSum weekdays\n",
    "\n",
    "alpha = 0.05\n",
    "f_stat, p_value = st.ttest_ind(weekend, weekdays, equal_var=False, alternative=\"two-sided\")\n",
    "\n",
    "print(f\"P-valor: {p_value:.4f}\")\n",
    "\n",
    "if p_value < alpha:\n",
    "    print(\"Reject Ho. There are significant differences in prices between weekend and weekdays\")\n",
    "else:\n",
    "    print(\"Not Reject Ho. There are not significant differences in prices between weekend and weekdays\")"
   ]
  },
  {
   "cell_type": "code",
   "execution_count": 23,
   "id": "5b3980b4-9719-4ea4-8f9c-ee86dc744059",
   "metadata": {},
   "outputs": [
    {
     "name": "stdout",
     "output_type": "stream",
     "text": [
      "P-valor: 0.0021\n",
      "Reject Ho. There are significant differences in prices between weekend and weekdays\n"
     ]
    }
   ],
   "source": [
    "#H0: mu realSum weekend  <= mu realSum weekdays\n",
    "#H1: mu realSum weekend > mu realSum weekdays\n",
    "\n",
    "alpha = 0.05\n",
    "f_stat, p_value = st.ttest_ind(weekend, weekdays, equal_var=False, alternative=\"greater\")\n",
    "\n",
    "print(f\"P-valor: {p_value:.4f}\")\n",
    "\n",
    "if p_value < alpha:\n",
    "    print(\"Reject Ho. Prices during the weekend are higher than during weekdays\")\n",
    "else:\n",
    "    print(\"Not Reject Ho. Prices during the weekend are smaller or equal than during weekdays\")"
   ]
  },
  {
   "cell_type": "markdown",
   "id": "f3326702-aac4-4afd-ba78-6b271bf13d5f",
   "metadata": {
    "jp-MarkdownHeadingCollapsed": true
   },
   "source": [
    "## Room Type Hypothesis (ANOVA)"
   ]
  },
  {
   "cell_type": "code",
   "execution_count": 25,
   "id": "08733f21-a512-44ae-a971-cbc26d63ca37",
   "metadata": {},
   "outputs": [
    {
     "name": "stdout",
     "output_type": "stream",
     "text": [
      "P-valor: 0.0000\n",
      "Reject Ho. There are significant differences in prices between cities\n"
     ]
    }
   ],
   "source": [
    "private_room = airbnb[airbnb[\"room_type\"] == \"Private room\"][\"realSum\"]\n",
    "entire_apartment = airbnb[airbnb[\"room_type\"] == \"Entire home/apt\"][\"realSum\"]\n",
    "shared_room = airbnb[airbnb[\"room_type\"] == \"Shared room\"][\"realSum\"]\n",
    "\n",
    "#H0: mu realSum private_room = mu realSum entire_apartment  = mu realSum shared_room   \n",
    "#H1: mu realSum private_room != mu realSum entire_apartment != mu realSum shared_room  \n",
    "\n",
    "alpha = 0.05\n",
    "f_stat, p_value = st.f_oneway(private_room, entire_apartment, shared_room)\n",
    "\n",
    "print(f\"P-valor: {p_value:.4f}\")\n",
    "\n",
    "if p_value < alpha:\n",
    "    print(\"Reject Ho. There are significant differences in prices between room types\")\n",
    "else:\n",
    "    print(\"Not Reject Ho. There are not significant differences in prices between room types\")"
   ]
  },
  {
   "cell_type": "markdown",
   "id": "6facf6e8-e2d8-48c6-8873-57d4e8b08472",
   "metadata": {
    "jp-MarkdownHeadingCollapsed": true
   },
   "source": [
    "## Superhost Hypothesis (Two Sample t-test)"
   ]
  },
  {
   "cell_type": "code",
   "execution_count": 27,
   "id": "3fbb7b4c-0c23-4216-aff6-b2b9947a82e0",
   "metadata": {},
   "outputs": [
    {
     "name": "stdout",
     "output_type": "stream",
     "text": [
      "P-valor: 0.0000\n",
      "Reject Ho. There are significant differences in prices between superhosts and non superhosts\n"
     ]
    }
   ],
   "source": [
    "superhost = airbnb[airbnb[\"host_is_superhost\"] == True][\"realSum\"]\n",
    "no_superhost = airbnb[airbnb[\"host_is_superhost\"] == False][\"realSum\"]\n",
    "\n",
    "#H0: mu realSum superhost = mu realSum no_superhost\n",
    "#H1: mu realSum superhost != mu realSum no_superhost\n",
    "\n",
    "alpha = 0.05\n",
    "f_stat, p_value = st.ttest_ind(superhost, no_superhost, equal_var=False, alternative=\"two-sided\")\n",
    "\n",
    "print(f\"P-valor: {p_value:.4f}\")\n",
    "\n",
    "if p_value < alpha:\n",
    "    print(\"Reject Ho. There are significant differences in prices between superhosts and non superhosts\")\n",
    "else:\n",
    "    print(\"Not Reject Ho. There are not significant differences in prices between superhosts and non superhosts\")"
   ]
  },
  {
   "cell_type": "code",
   "execution_count": 28,
   "id": "bb274c43-d1f9-4b62-ba6a-b671ae82cbf9",
   "metadata": {},
   "outputs": [
    {
     "name": "stdout",
     "output_type": "stream",
     "text": [
      "P-valor: 1.0000\n",
      "Not Reject Ho. Prices when the host is a superhost are smaller or equal than when the host is not a superhost\n"
     ]
    }
   ],
   "source": [
    "#H0: mu realSum superhost  <= mu realSum no superhost\n",
    "#H1: mu realSum superhost > mu realSum no superhost\n",
    "\n",
    "alpha = 0.05\n",
    "f_stat, p_value = st.ttest_ind(superhost, no_superhost, equal_var=False, alternative=\"greater\")\n",
    "\n",
    "print(f\"P-valor: {p_value:.4f}\")\n",
    "\n",
    "if p_value < alpha:\n",
    "    print(\"Reject Ho. Prices when the host is a superhost are higher than when the host is not a superhost\")\n",
    "else:\n",
    "    print(\"Not Reject Ho. Prices when the host is a superhost are smaller or equal than when the host is not a superhost\")"
   ]
  },
  {
   "cell_type": "markdown",
   "id": "de0d077b-ad78-498d-8df9-aac56e8cc59b",
   "metadata": {
    "jp-MarkdownHeadingCollapsed": true
   },
   "source": [
    "## Cleanliness Hypothesis (ANOVA)"
   ]
  },
  {
   "cell_type": "code",
   "execution_count": 37,
   "id": "7688c599-3d9a-44e3-b17d-0e854b36ea1b",
   "metadata": {},
   "outputs": [
    {
     "name": "stdout",
     "output_type": "stream",
     "text": [
      "P-valor: 0.0009\n",
      "Reject Ho. There are significant differences in prices between different cleanliness ratings\n"
     ]
    }
   ],
   "source": [
    "airbnb[\"cleanliness_rating\"] = airbnb[\"cleanliness_rating\"].astype(int)\n",
    "#airbnb[\"cleanliness_rating\"].unique()\n",
    "\n",
    "cleanliness_2 = airbnb[airbnb[\"cleanliness_rating\"] == 2][\"realSum\"]\n",
    "cleanliness_3 = airbnb[airbnb[\"cleanliness_rating\"] == 3][\"realSum\"]\n",
    "cleanliness_4 = airbnb[airbnb[\"cleanliness_rating\"] == 4][\"realSum\"]\n",
    "cleanliness_5 = airbnb[airbnb[\"cleanliness_rating\"] == 5][\"realSum\"]\n",
    "cleanliness_6 = airbnb[airbnb[\"cleanliness_rating\"] == 6][\"realSum\"]\n",
    "cleanliness_7 = airbnb[airbnb[\"cleanliness_rating\"] == 7][\"realSum\"]\n",
    "cleanliness_8 = airbnb[airbnb[\"cleanliness_rating\"] == 8][\"realSum\"]\n",
    "cleanliness_9 = airbnb[airbnb[\"cleanliness_rating\"] == 9][\"realSum\"]\n",
    "cleanliness_10 = airbnb[airbnb[\"cleanliness_rating\"] == 10][\"realSum\"]\n",
    "\n",
    "#H0: mu realSum cleanliness_2 = mu realSum cleanliness_3  = mu realSum cleanliness_4 = mu realSum cleanliness_5 = mu realSum cleanliness_6 = mu realSum cleanliness_7\n",
    "# = mu realSum cleanliness_8 = = mu realSum cleanliness_9 = mu realSum cleanliness_10\n",
    "#H1: mu realSum cleanliness_2 != mu realSum cleanliness_3  != mu realSum cleanliness_4 != mu realSum cleanliness_5 != mu realSum cleanliness_6 != mu realSum cleanliness_7\n",
    "# = mu realSum cleanliness_8 != mu realSum cleanliness_9 != mu realSum cleanliness_10\n",
    "\n",
    "alpha = 0.05\n",
    "f_stat, p_value = st.f_oneway(cleanliness_2, cleanliness_3, cleanliness_4, cleanliness_5, cleanliness_6, cleanliness_7, cleanliness_8, cleanliness_9, cleanliness_10)\n",
    "\n",
    "print(f\"P-valor: {p_value:.4f}\")\n",
    "\n",
    "if p_value < alpha:\n",
    "    print(\"Reject Ho. There are significant differences in prices between different cleanliness ratings\")\n",
    "else:\n",
    "    print(\"Not Reject Ho. There are not significant differences in prices between different cleanliness ratings\")"
   ]
  },
  {
   "cell_type": "markdown",
   "id": "ab124134-4a83-4920-9a91-2d2d16234f54",
   "metadata": {
    "jp-MarkdownHeadingCollapsed": true
   },
   "source": [
    "## Bedrooms Hypothesis (ANOVA)"
   ]
  },
  {
   "cell_type": "code",
   "execution_count": 47,
   "id": "542e983a-2197-4b30-8d36-2582b141e989",
   "metadata": {},
   "outputs": [
    {
     "name": "stdout",
     "output_type": "stream",
     "text": [
      "P-valor: 0.0000\n",
      "Reject Ho. There are significant differences in prices between different total number of bedrooms\n"
     ]
    }
   ],
   "source": [
    "#airbnb[\"bedrooms\"].unique()\n",
    "\n",
    "bedrooms_0 = airbnb[airbnb[\"bedrooms\"] == 2][\"realSum\"]\n",
    "bedrooms_1 = airbnb[airbnb[\"bedrooms\"] == 1][\"realSum\"]\n",
    "bedrooms_2 = airbnb[airbnb[\"bedrooms\"] == 2][\"realSum\"]\n",
    "bedrooms_3 = airbnb[airbnb[\"bedrooms\"] == 3][\"realSum\"]\n",
    "bedrooms_4 = airbnb[airbnb[\"bedrooms\"] == 4][\"realSum\"]\n",
    "bedrooms_5 = airbnb[airbnb[\"bedrooms\"] == 5][\"realSum\"]\n",
    "bedrooms_6 = airbnb[airbnb[\"bedrooms\"] == 6][\"realSum\"]\n",
    "bedrooms_8 = airbnb[airbnb[\"bedrooms\"] == 8][\"realSum\"]\n",
    "bedrooms_9 = airbnb[airbnb[\"bedrooms\"] == 9][\"realSum\"]\n",
    "bedrooms_10 = airbnb[airbnb[\"bedrooms\"] == 10][\"realSum\"]\n",
    "\n",
    "#H0: mu realSum bedrooms_0 = mu realSum bedrooms_1  = mu realSum bedrooms_2 = mu realSum bedrooms_3 = mu realSum bedrooms_4 = mu realSum bedrooms_5\n",
    "# = mu realSum bedrooms_6 = mu realSum bedrooms_7 = mu realSum bedrooms_8 = mu realSum bedrooms_9 = mu realSum bedrooms_10\n",
    "#H1: mu realSum bedrooms_0 != mu realSum bedrooms_1 != mu realSum bedrooms_2 != mu realSum bedrooms_3 != mu realSum bedrooms_4 != mu realSum bedrooms_5\n",
    "# != mu realSum bedrooms_6 != mu realSum bedrooms_7 != mu realSum bedrooms_8 != mu realSum bedrooms_9 != mu realSum bedrooms_10\n",
    "\n",
    "alpha = 0.05\n",
    "f_stat, p_value = st.f_oneway(bedrooms_0, bedrooms_1, bedrooms_2, bedrooms_3, bedrooms_4, bedrooms_5, bedrooms_6, bedrooms_8, bedrooms_9, bedrooms_10)\n",
    "\n",
    "print(f\"P-valor: {p_value:.4f}\")\n",
    "\n",
    "if p_value < alpha:\n",
    "    print(\"Reject Ho. There are significant differences in prices between different total number of bedrooms\")\n",
    "else:\n",
    "    print(\"Not Reject Ho. There are not significant differences in prices between total number of bedrooms\")"
   ]
  },
  {
   "cell_type": "markdown",
   "id": "6118b5ef-fedd-4bd9-8868-7584cfdcfe89",
   "metadata": {
    "jp-MarkdownHeadingCollapsed": true
   },
   "source": [
    "## Metro Dist Hypothesis "
   ]
  },
  {
   "cell_type": "code",
   "execution_count": 59,
   "id": "09bd14a3-6a4c-4af4-bc97-e6e462824e8c",
   "metadata": {},
   "outputs": [
    {
     "name": "stdout",
     "output_type": "stream",
     "text": [
      "                            OLS Regression Results                            \n",
      "==============================================================================\n",
      "Dep. Variable:                realSum   R-squared:                       0.012\n",
      "Model:                            OLS   Adj. R-squared:                  0.012\n",
      "Method:                 Least Squares   F-statistic:                     609.2\n",
      "Date:                Fri, 07 Mar 2025   Prob (F-statistic):          1.01e-133\n",
      "Time:                        11:32:55   Log-Likelihood:                -46134.\n",
      "No. Observations:               51707   AIC:                         9.227e+04\n",
      "Df Residuals:                   51705   BIC:                         9.229e+04\n",
      "Df Model:                           1                                         \n",
      "Covariance Type:            nonrobust                                         \n",
      "==============================================================================\n",
      "                 coef    std err          t      P>|t|      [0.025      0.975]\n",
      "------------------------------------------------------------------------------\n",
      "const          5.4756      0.003   1650.931      0.000       5.469       5.482\n",
      "metro_dist    -0.0747      0.003    -24.681      0.000      -0.081      -0.069\n",
      "==============================================================================\n",
      "Omnibus:                     5026.655   Durbin-Watson:                   1.242\n",
      "Prob(Omnibus):                  0.000   Jarque-Bera (JB):             8146.956\n",
      "Skew:                           0.712   Prob(JB):                         0.00\n",
      "Kurtosis:                       4.323   Cond. No.                         2.09\n",
      "==============================================================================\n",
      "\n",
      "Notes:\n",
      "[1] Standard Errors assume that the covariance matrix of the errors is correctly specified.\n"
     ]
    }
   ],
   "source": [
    "X = airbnb['metro_dist']\n",
    "y = np.log1p(airbnb['realSum'])\n",
    "\n",
    "X = sm.add_constant(X)\n",
    "\n",
    "metro_model = sm.OLS(y, X).fit()\n",
    "\n",
    "\n",
    "print(metro_model.summary())\n",
    "#To interpret metro_dist coefficient we should do the exponential np.exp(result)"
   ]
  },
  {
   "cell_type": "markdown",
   "id": "a81640a7-f7bf-4adb-989b-17896402d627",
   "metadata": {
    "jp-MarkdownHeadingCollapsed": true
   },
   "source": [
    "## Attr Index Hypothesis"
   ]
  },
  {
   "cell_type": "code",
   "execution_count": 60,
   "id": "49283f64-5f8c-4427-ac32-c1d16aa35302",
   "metadata": {},
   "outputs": [
    {
     "name": "stdout",
     "output_type": "stream",
     "text": [
      "                            OLS Regression Results                            \n",
      "==============================================================================\n",
      "Dep. Variable:                realSum   R-squared:                       0.104\n",
      "Model:                            OLS   Adj. R-squared:                  0.104\n",
      "Method:                 Least Squares   F-statistic:                     5981.\n",
      "Date:                Fri, 07 Mar 2025   Prob (F-statistic):               0.00\n",
      "Time:                        11:45:43   Log-Likelihood:                -43607.\n",
      "No. Observations:               51707   AIC:                         8.722e+04\n",
      "Df Residuals:                   51705   BIC:                         8.724e+04\n",
      "Df Model:                           1                                         \n",
      "Covariance Type:            nonrobust                                         \n",
      "==============================================================================\n",
      "                 coef    std err          t      P>|t|      [0.025      0.975]\n",
      "------------------------------------------------------------------------------\n",
      "const          5.1743      0.004   1270.071      0.000       5.166       5.182\n",
      "attr_index     0.0009    1.1e-05     77.336      0.000       0.001       0.001\n",
      "==============================================================================\n",
      "Omnibus:                     5770.062   Durbin-Watson:                   1.261\n",
      "Prob(Omnibus):                  0.000   Jarque-Bera (JB):            10941.279\n",
      "Skew:                           0.737   Prob(JB):                         0.00\n",
      "Kurtosis:                       4.704   Cond. No.                         610.\n",
      "==============================================================================\n",
      "\n",
      "Notes:\n",
      "[1] Standard Errors assume that the covariance matrix of the errors is correctly specified.\n"
     ]
    }
   ],
   "source": [
    "X = airbnb['attr_index'] \n",
    "y = np.log1p(airbnb['realSum']) \n",
    "\n",
    "X = sm.add_constant(X)\n",
    "attr_model = sm.OLS(y, X).fit()\n",
    "\n",
    "print(attr_model.summary())\n",
    "#To interpret metro_dist coefficient we should do the exponential np.exp(result)"
   ]
  },
  {
   "cell_type": "markdown",
   "id": "3b00c19e-b556-45ea-8701-fb8320c92ef8",
   "metadata": {},
   "source": [
    "# GUEST SATISFACTION"
   ]
  },
  {
   "cell_type": "markdown",
   "id": "b04ef2bb-fc65-4dd0-9661-a1ad4d08ba9c",
   "metadata": {
    "jp-MarkdownHeadingCollapsed": true
   },
   "source": [
    "## City Hypothesis (ANOVA)"
   ]
  },
  {
   "cell_type": "code",
   "execution_count": 65,
   "id": "2130c4ec-5441-4555-8aa8-4312e123d61e",
   "metadata": {},
   "outputs": [
    {
     "name": "stdout",
     "output_type": "stream",
     "text": [
      "P-valor: 0.0000\n",
      "Reject Ho. There are significant differences in guest_satisfaction_overall between cities\n"
     ]
    }
   ],
   "source": [
    "amsterdam = airbnb[airbnb[\"city\"] == \"Amsterdam\"][\"guest_satisfaction_overall\"]\n",
    "athens = airbnb[airbnb[\"city\"] == \"Athens\"][\"guest_satisfaction_overall\"]\n",
    "barcelona = airbnb[airbnb[\"city\"] == \"Barcelona\"][\"guest_satisfaction_overall\"]\n",
    "berlin = airbnb[airbnb[\"city\"] == \"Berlin\"][\"guest_satisfaction_overall\"]\n",
    "budapest = airbnb[airbnb[\"city\"] == \"Budapest\"][\"guest_satisfaction_overall\"]\n",
    "lisbon = airbnb[airbnb[\"city\"] == \"Lisbon\"][\"guest_satisfaction_overall\"]\n",
    "london = airbnb[airbnb[\"city\"] == \"London\"][\"guest_satisfaction_overall\"]\n",
    "paris = airbnb[airbnb[\"city\"] == \"Paris\"][\"guest_satisfaction_overall\"]\n",
    "rome = airbnb[airbnb[\"city\"] == \"Rome\"][\"guest_satisfaction_overall\"]\n",
    "vienna = airbnb[airbnb[\"city\"] == \"Vienna\"][\"guest_satisfaction_overall\"]\n",
    "\n",
    "\n",
    "#H0: mu guest_satisfaction_overall amsterdam = mu guest_satisfaction_overall athens  = mu guest_satisfaction_overall barcelona = mu guest_satisfaction_overall berlin = mu guest_satisfaction_overall budapest  = mu guest_satisfaction_overall lisbon = mu guest_satisfaction_overall london = mu guest_satisfaction_overall paris\n",
    "    # = mu guest_satisfaction_overall rome = mu guest_satisfaction_overall vienna\n",
    "#H1: mu guest_satisfaction_overall amsterdam != mu guest_satisfaction_overall athens  != mu guest_satisfaction_overall barcelona != mu guest_satisfaction_overall berlin != mu guest_satisfaction_overall budapest  != mu guest_satisfaction_overall lisbon != mu guest_satisfaction_overall london != mu guest_satisfaction_overall paris\n",
    "    # != mu guest_satisfaction_overall rome != mu guest_satisfaction_overall vienna\n",
    "\n",
    "alpha = 0.05\n",
    "f_stat, p_value = st.f_oneway(amsterdam, athens, barcelona, berlin, budapest, lisbon, london, paris, rome, vienna)\n",
    "\n",
    "print(f\"P-valor: {p_value:.4f}\")\n",
    "\n",
    "if p_value < alpha:\n",
    "    print(\"Reject Ho. There are significant differences in guest_satisfaction_overall between cities\")\n",
    "else:\n",
    "    print(\"Not Reject Ho. There are not significant differences in guest_satisfaction_overall between cities\")"
   ]
  },
  {
   "cell_type": "markdown",
   "id": "017da9c0-ca15-4f88-82a9-ca3dfb9c9147",
   "metadata": {
    "jp-MarkdownHeadingCollapsed": true
   },
   "source": [
    "## Room Type Hypothesis (ANOVA)"
   ]
  },
  {
   "cell_type": "code",
   "execution_count": 66,
   "id": "252c4d59-2cb0-4ffc-8966-9e627fa48e03",
   "metadata": {},
   "outputs": [
    {
     "name": "stdout",
     "output_type": "stream",
     "text": [
      "P-valor: 0.0000\n",
      "Reject Ho. There are significant differences in guest_satisfaction_overall between room types\n"
     ]
    }
   ],
   "source": [
    "private_room = airbnb[airbnb[\"room_type\"] == \"Private room\"][\"guest_satisfaction_overall\"]\n",
    "entire_apartment = airbnb[airbnb[\"room_type\"] == \"Entire home/apt\"][\"guest_satisfaction_overall\"]\n",
    "shared_room = airbnb[airbnb[\"room_type\"] == \"Shared room\"][\"guest_satisfaction_overall\"]\n",
    "\n",
    "#H0: mu guest_satisfaction_overall private_room = mu guest_satisfaction_overall entire_apartment  = mu guest_satisfaction_overall shared_room   \n",
    "#H1: mu guest_satisfaction_overall private_room != mu guest_satisfaction_overall entire_apartment != mu guest_satisfaction_overall shared_room  \n",
    "\n",
    "alpha = 0.05\n",
    "f_stat, p_value = st.f_oneway(private_room, entire_apartment, shared_room)\n",
    "\n",
    "print(f\"P-valor: {p_value:.4f}\")\n",
    "\n",
    "if p_value < alpha:\n",
    "    print(\"Reject Ho. There are significant differences in guest_satisfaction_overall between room types\")\n",
    "else:\n",
    "    print(\"Not Reject Ho. There are not significant differences in guest_satisfaction_overall between room types\")"
   ]
  },
  {
   "cell_type": "markdown",
   "id": "34d216bb-4bda-4787-aee7-9b020fe282c8",
   "metadata": {
    "jp-MarkdownHeadingCollapsed": true
   },
   "source": [
    "## Superhost Hypothesis (Two Sample t-test)"
   ]
  },
  {
   "cell_type": "code",
   "execution_count": 67,
   "id": "a39393e3-234f-4ae0-bfe9-0e39f60d1a29",
   "metadata": {},
   "outputs": [
    {
     "name": "stdout",
     "output_type": "stream",
     "text": [
      "P-valor: 0.0000\n",
      "Reject Ho. There are significant differences in guest_satisfaction_overall between superhosts and non superhosts\n"
     ]
    }
   ],
   "source": [
    "superhost = airbnb[airbnb[\"host_is_superhost\"] == True][\"guest_satisfaction_overall\"]\n",
    "no_superhost = airbnb[airbnb[\"host_is_superhost\"] == False][\"guest_satisfaction_overall\"]\n",
    "\n",
    "#H0: mu guest_satisfaction_overall superhost = mu guest_satisfaction_overall no_superhost\n",
    "#H1: mu guest_satisfaction_overall superhost != mu guest_satisfaction_overall no_superhost\n",
    "\n",
    "alpha = 0.05\n",
    "f_stat, p_value = st.ttest_ind(superhost, no_superhost, equal_var=False, alternative=\"two-sided\")\n",
    "\n",
    "print(f\"P-valor: {p_value:.4f}\")\n",
    "\n",
    "if p_value < alpha:\n",
    "    print(\"Reject Ho. There are significant differences in guest_satisfaction_overall between superhosts and non superhosts\")\n",
    "else:\n",
    "    print(\"Not Reject Ho. There are not significant differences in guest_satisfaction_overall between superhosts and non superhosts\")"
   ]
  },
  {
   "cell_type": "code",
   "execution_count": 68,
   "id": "a5faa999-f323-4ac9-bb85-d2297ed31985",
   "metadata": {},
   "outputs": [
    {
     "name": "stdout",
     "output_type": "stream",
     "text": [
      "P-valor: 0.0000\n",
      "Reject Ho. guest_satisfaction_overall when the host is a superhost are higher than when the host is not a superhost\n"
     ]
    }
   ],
   "source": [
    "#H0: mu guest_satisfaction_overall superhost  <= mu guest_satisfaction_overall no superhost\n",
    "#H1: mu guest_satisfaction_overall superhost > mu guest_satisfaction_overall no superhost\n",
    "\n",
    "alpha = 0.05\n",
    "f_stat, p_value = st.ttest_ind(superhost, no_superhost, equal_var=False, alternative=\"greater\")\n",
    "\n",
    "print(f\"P-valor: {p_value:.4f}\")\n",
    "\n",
    "if p_value < alpha:\n",
    "    print(\"Reject Ho. guest_satisfaction_overall when the host is a superhost are higher than when the host is not a superhost\")\n",
    "else:\n",
    "    print(\"Not Reject Ho. guest_satisfaction_overall when the host is a superhost are smaller or equal than when the host is not a superhost\")"
   ]
  },
  {
   "cell_type": "markdown",
   "id": "9353ab59-99f2-49cd-8d5e-68ba9ee6ef2a",
   "metadata": {
    "jp-MarkdownHeadingCollapsed": true
   },
   "source": [
    "## Cleanliness Hypothesis (ANOVA)"
   ]
  },
  {
   "cell_type": "code",
   "execution_count": 69,
   "id": "4566a09b-e84e-4078-b172-1f48a1fd0f8b",
   "metadata": {},
   "outputs": [
    {
     "name": "stdout",
     "output_type": "stream",
     "text": [
      "P-valor: 0.0000\n",
      "Reject Ho. There are significant differences in guest_satisfaction_overall between different cleanliness ratings\n"
     ]
    }
   ],
   "source": [
    "cleanliness_2 = airbnb[airbnb[\"cleanliness_rating\"] == 2][\"guest_satisfaction_overall\"]\n",
    "cleanliness_3 = airbnb[airbnb[\"cleanliness_rating\"] == 3][\"guest_satisfaction_overall\"]\n",
    "cleanliness_4 = airbnb[airbnb[\"cleanliness_rating\"] == 4][\"guest_satisfaction_overall\"]\n",
    "cleanliness_5 = airbnb[airbnb[\"cleanliness_rating\"] == 5][\"guest_satisfaction_overall\"]\n",
    "cleanliness_6 = airbnb[airbnb[\"cleanliness_rating\"] == 6][\"guest_satisfaction_overall\"]\n",
    "cleanliness_7 = airbnb[airbnb[\"cleanliness_rating\"] == 7][\"guest_satisfaction_overall\"]\n",
    "cleanliness_8 = airbnb[airbnb[\"cleanliness_rating\"] == 8][\"guest_satisfaction_overall\"]\n",
    "cleanliness_9 = airbnb[airbnb[\"cleanliness_rating\"] == 9][\"guest_satisfaction_overall\"]\n",
    "cleanliness_10 = airbnb[airbnb[\"cleanliness_rating\"] == 10][\"guest_satisfaction_overall\"]\n",
    "\n",
    "#H0: mu guest_satisfaction_overall cleanliness_2 = mu guest_satisfaction_overall cleanliness_3  = mu guest_satisfaction_overall cleanliness_4 = mu guest_satisfaction_overall cleanliness_5 = mu guest_satisfaction_overall cleanliness_6 = mu guest_satisfaction_overall cleanliness_7\n",
    "# = mu guest_satisfaction_overall cleanliness_8 = = mu guest_satisfaction_overall cleanliness_9 = mu guest_satisfaction_overall cleanliness_10\n",
    "#H1: mu guest_satisfaction_overall cleanliness_2 != mu guest_satisfaction_overall cleanliness_3  != mu guest_satisfaction_overall cleanliness_4 != mu guest_satisfaction_overall cleanliness_5 != mu guest_satisfaction_overall cleanliness_6 != mu guest_satisfaction_overall cleanliness_7\n",
    "# = mu guest_satisfaction_overall cleanliness_8 != mu guest_satisfaction_overall cleanliness_9 != mu guest_satisfaction_overall cleanliness_10\n",
    "\n",
    "alpha = 0.05\n",
    "f_stat, p_value = st.f_oneway(cleanliness_2, cleanliness_3, cleanliness_4, cleanliness_5, cleanliness_6, cleanliness_7, cleanliness_8, cleanliness_9, cleanliness_10)\n",
    "\n",
    "print(f\"P-valor: {p_value:.4f}\")\n",
    "\n",
    "if p_value < alpha:\n",
    "    print(\"Reject Ho. There are significant differences in guest_satisfaction_overall between different cleanliness ratings\")\n",
    "else:\n",
    "    print(\"Not Reject Ho. There are not significant differences in guest_satisfaction_overall between different cleanliness ratings\")"
   ]
  },
  {
   "cell_type": "markdown",
   "id": "337b0e78-a1fb-4710-bac4-e35f39a9d499",
   "metadata": {
    "jp-MarkdownHeadingCollapsed": true
   },
   "source": [
    "## Bedroom Hypothesis (ANOVA)"
   ]
  },
  {
   "cell_type": "code",
   "execution_count": 70,
   "id": "fc209c4b-b567-48ac-ad5a-6587a89c7c81",
   "metadata": {},
   "outputs": [
    {
     "name": "stdout",
     "output_type": "stream",
     "text": [
      "P-valor: 0.0023\n",
      "Reject Ho. There are significant differences in guest_satisfaction_overall between different total number of bedrooms\n"
     ]
    }
   ],
   "source": [
    "bedrooms_0 = airbnb[airbnb[\"bedrooms\"] == 2][\"guest_satisfaction_overall\"]\n",
    "bedrooms_1 = airbnb[airbnb[\"bedrooms\"] == 1][\"guest_satisfaction_overall\"]\n",
    "bedrooms_2 = airbnb[airbnb[\"bedrooms\"] == 2][\"guest_satisfaction_overall\"]\n",
    "bedrooms_3 = airbnb[airbnb[\"bedrooms\"] == 3][\"guest_satisfaction_overall\"]\n",
    "bedrooms_4 = airbnb[airbnb[\"bedrooms\"] == 4][\"guest_satisfaction_overall\"]\n",
    "bedrooms_5 = airbnb[airbnb[\"bedrooms\"] == 5][\"guest_satisfaction_overall\"]\n",
    "bedrooms_6 = airbnb[airbnb[\"bedrooms\"] == 6][\"guest_satisfaction_overall\"]\n",
    "bedrooms_8 = airbnb[airbnb[\"bedrooms\"] == 8][\"guest_satisfaction_overall\"]\n",
    "bedrooms_9 = airbnb[airbnb[\"bedrooms\"] == 9][\"guest_satisfaction_overall\"]\n",
    "bedrooms_10 = airbnb[airbnb[\"bedrooms\"] == 10][\"guest_satisfaction_overall\"]\n",
    "\n",
    "#H0: mu guest_satisfaction_overall bedrooms_0 = mu guest_satisfaction_overall bedrooms_1  = mu guest_satisfaction_overall bedrooms_2 = mu guest_satisfaction_overall bedrooms_3 = mu guest_satisfaction_overall bedrooms_4 = mu guest_satisfaction_overall bedrooms_5\n",
    "# = mu guest_satisfaction_overall bedrooms_6 = mu guest_satisfaction_overall bedrooms_7 = mu guest_satisfaction_overall bedrooms_8 = mu guest_satisfaction_overall bedrooms_9 = mu guest_satisfaction_overall bedrooms_10\n",
    "#H1: mu guest_satisfaction_overall bedrooms_0 != mu guest_satisfaction_overall bedrooms_1 != mu guest_satisfaction_overall bedrooms_2 != mu guest_satisfaction_overall bedrooms_3 != mu guest_satisfaction_overall bedrooms_4 != mu guest_satisfaction_overall bedrooms_5\n",
    "# != mu guest_satisfaction_overall bedrooms_6 != mu guest_satisfaction_overall bedrooms_7 != mu guest_satisfaction_overall bedrooms_8 != mu guest_satisfaction_overall bedrooms_9 != mu guest_satisfaction_overall bedrooms_10\n",
    "\n",
    "alpha = 0.05\n",
    "f_stat, p_value = st.f_oneway(bedrooms_0, bedrooms_1, bedrooms_2, bedrooms_3, bedrooms_4, bedrooms_5, bedrooms_6, bedrooms_8, bedrooms_9, bedrooms_10)\n",
    "\n",
    "print(f\"P-valor: {p_value:.4f}\")\n",
    "\n",
    "if p_value < alpha:\n",
    "    print(\"Reject Ho. There are significant differences in guest_satisfaction_overall between different total number of bedrooms\")\n",
    "else:\n",
    "    print(\"Not Reject Ho. There are not significant differences in guest_satisfaction_overall between total number of bedrooms\")"
   ]
  },
  {
   "cell_type": "markdown",
   "id": "bb93bf9b-8f2c-41c1-b2d2-5433833fa8ba",
   "metadata": {
    "jp-MarkdownHeadingCollapsed": true
   },
   "source": [
    "## Metro District Hypothesis"
   ]
  },
  {
   "cell_type": "code",
   "execution_count": 71,
   "id": "e11195bf-cdfe-4de7-bbcc-8be49f3696fa",
   "metadata": {},
   "outputs": [
    {
     "name": "stdout",
     "output_type": "stream",
     "text": [
      "                                OLS Regression Results                                \n",
      "======================================================================================\n",
      "Dep. Variable:     guest_satisfaction_overall   R-squared:                       0.000\n",
      "Model:                                    OLS   Adj. R-squared:                  0.000\n",
      "Method:                         Least Squares   F-statistic:                     21.87\n",
      "Date:                        Fri, 07 Mar 2025   Prob (F-statistic):           2.92e-06\n",
      "Time:                                12:19:06   Log-Likelihood:                 33090.\n",
      "No. Observations:                       51707   AIC:                        -6.618e+04\n",
      "Df Residuals:                           51705   BIC:                        -6.616e+04\n",
      "Df Model:                                   1                                         \n",
      "Covariance Type:                    nonrobust                                         \n",
      "==============================================================================\n",
      "                 coef    std err          t      P>|t|      [0.025      0.975]\n",
      "------------------------------------------------------------------------------\n",
      "const          4.5307      0.001   6322.400      0.000       4.529       4.532\n",
      "metro_dist     0.0031      0.001      4.677      0.000       0.002       0.004\n",
      "==============================================================================\n",
      "Omnibus:                    60695.702   Durbin-Watson:                   1.871\n",
      "Prob(Omnibus):                  0.000   Jarque-Bera (JB):          8078789.934\n",
      "Skew:                          -6.216   Prob(JB):                         0.00\n",
      "Kurtosis:                      62.960   Cond. No.                         2.09\n",
      "==============================================================================\n",
      "\n",
      "Notes:\n",
      "[1] Standard Errors assume that the covariance matrix of the errors is correctly specified.\n"
     ]
    }
   ],
   "source": [
    "X = airbnb['metro_dist']\n",
    "y = np.log1p(airbnb['guest_satisfaction_overall'])\n",
    "\n",
    "X = sm.add_constant(X)\n",
    "\n",
    "model_log = sm.OLS(y, X).fit()\n",
    "\n",
    "\n",
    "print(model_log.summary())\n",
    "#To interpret metro_dist coefficient we should do the exponential np.exp(result)"
   ]
  },
  {
   "cell_type": "markdown",
   "id": "4b8996cc-244c-4f15-82ca-ca7a14116fed",
   "metadata": {
    "jp-MarkdownHeadingCollapsed": true
   },
   "source": [
    "## Attr Index Hypothesis"
   ]
  },
  {
   "cell_type": "code",
   "execution_count": 72,
   "id": "a8e5db84-5f15-4617-99c0-a5c62d8d09a3",
   "metadata": {},
   "outputs": [
    {
     "name": "stdout",
     "output_type": "stream",
     "text": [
      "                                OLS Regression Results                                \n",
      "======================================================================================\n",
      "Dep. Variable:     guest_satisfaction_overall   R-squared:                       0.001\n",
      "Model:                                    OLS   Adj. R-squared:                  0.001\n",
      "Method:                         Least Squares   F-statistic:                     72.64\n",
      "Date:                        Fri, 07 Mar 2025   Prob (F-statistic):           1.60e-17\n",
      "Time:                                12:20:27   Log-Likelihood:                 33116.\n",
      "No. Observations:                       51707   AIC:                        -6.623e+04\n",
      "Df Residuals:                           51705   BIC:                        -6.621e+04\n",
      "Df Model:                                   1                                         \n",
      "Covariance Type:                    nonrobust                                         \n",
      "==============================================================================\n",
      "                 coef    std err          t      P>|t|      [0.025      0.975]\n",
      "------------------------------------------------------------------------------\n",
      "const          4.5391      0.001   4913.001      0.000       4.537       4.541\n",
      "attr_index -2.127e-05    2.5e-06     -8.523      0.000   -2.62e-05   -1.64e-05\n",
      "==============================================================================\n",
      "Omnibus:                    60739.506   Durbin-Watson:                   1.873\n",
      "Prob(Omnibus):                  0.000   Jarque-Bera (JB):          8102893.931\n",
      "Skew:                          -6.223   Prob(JB):                         0.00\n",
      "Kurtosis:                      63.051   Cond. No.                         610.\n",
      "==============================================================================\n",
      "\n",
      "Notes:\n",
      "[1] Standard Errors assume that the covariance matrix of the errors is correctly specified.\n"
     ]
    }
   ],
   "source": [
    "X = airbnb['attr_index'] \n",
    "y = np.log1p(airbnb['guest_satisfaction_overall']) \n",
    "\n",
    "X = sm.add_constant(X)\n",
    "attr_model = sm.OLS(y, X).fit()\n",
    "\n",
    "print(attr_model.summary())\n",
    "#To interpret metro_dist coefficient we should do the exponential np.exp(result)"
   ]
  },
  {
   "cell_type": "markdown",
   "id": "7e403b85-31c7-47d1-97c1-3099aefa5c8a",
   "metadata": {
    "jp-MarkdownHeadingCollapsed": true
   },
   "source": [
    "## Price/ Client Satisfaction"
   ]
  },
  {
   "cell_type": "code",
   "execution_count": 74,
   "id": "5897157b-e3ba-406a-abdf-a470ce546c82",
   "metadata": {},
   "outputs": [
    {
     "name": "stdout",
     "output_type": "stream",
     "text": [
      "                            OLS Regression Results                            \n",
      "==============================================================================\n",
      "Dep. Variable:                realSum   R-squared:                       0.000\n",
      "Model:                            OLS   Adj. R-squared:                  0.000\n",
      "Method:                 Least Squares   F-statistic:                     8.961\n",
      "Date:                Fri, 07 Mar 2025   Prob (F-statistic):            0.00276\n",
      "Time:                        12:22:15   Log-Likelihood:                -46432.\n",
      "No. Observations:               51707   AIC:                         9.287e+04\n",
      "Df Residuals:                   51705   BIC:                         9.289e+04\n",
      "Df Model:                           1                                         \n",
      "Covariance Type:            nonrobust                                         \n",
      "==============================================================================================\n",
      "                                 coef    std err          t      P>|t|      [0.025      0.975]\n",
      "----------------------------------------------------------------------------------------------\n",
      "const                          5.5057      0.027    202.611      0.000       5.452       5.559\n",
      "guest_satisfaction_overall    -0.0009      0.000     -2.993      0.003      -0.001      -0.000\n",
      "==============================================================================\n",
      "Omnibus:                     5065.102   Durbin-Watson:                   1.261\n",
      "Prob(Omnibus):                  0.000   Jarque-Bera (JB):             8200.361\n",
      "Skew:                           0.717   Prob(JB):                         0.00\n",
      "Kurtosis:                       4.323   Cond. No.                         968.\n",
      "==============================================================================\n",
      "\n",
      "Notes:\n",
      "[1] Standard Errors assume that the covariance matrix of the errors is correctly specified.\n"
     ]
    }
   ],
   "source": [
    "X = airbnb['guest_satisfaction_overall'] \n",
    "y = np.log1p(airbnb['realSum']) \n",
    "\n",
    "X = sm.add_constant(X)\n",
    "satisfaction_model = sm.OLS(y, X).fit()\n",
    "\n",
    "print(satisfaction_model.summary())"
   ]
  },
  {
   "cell_type": "code",
   "execution_count": null,
   "id": "14007a53-d6a7-4967-8ee2-292c254fc0fd",
   "metadata": {},
   "outputs": [],
   "source": []
  }
 ],
 "metadata": {
  "kernelspec": {
   "display_name": "final_project",
   "language": "python",
   "name": "final_project"
  },
  "language_info": {
   "codemirror_mode": {
    "name": "ipython",
    "version": 3
   },
   "file_extension": ".py",
   "mimetype": "text/x-python",
   "name": "python",
   "nbconvert_exporter": "python",
   "pygments_lexer": "ipython3",
   "version": "3.13.1"
  }
 },
 "nbformat": 4,
 "nbformat_minor": 5
}
